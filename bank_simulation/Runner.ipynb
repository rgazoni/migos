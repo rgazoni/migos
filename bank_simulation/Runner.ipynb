{
 "cells": [
  {
   "cell_type": "code",
   "execution_count": 6,
   "metadata": {},
   "outputs": [
    {
     "name": "stdout",
     "output_type": "stream",
     "text": [
      "[2023-11-02 16:28:51] - Proccess has been initialized\n",
      "[2023-11-02 16:28:52] - Connection established\n",
      "[2023-11-02 16:28:52] - User that has been chosen: Japonês\n",
      "[2023-11-02 16:28:52] - RUN: Finished insert into table\n"
     ]
    }
   ],
   "source": [
    "#For past records\n",
    "from random import randrange, choice\n",
    "from datetime import datetime\n",
    "from dotenv import load_dotenv\n",
    "import uuid\n",
    "import calendar\n",
    "import time\n",
    "import psycopg2\n",
    "import os\n",
    "\n",
    "load_dotenv()\n",
    "\n",
    "host = os.getenv('host')\n",
    "dbname = os.getenv('dbname')\n",
    "user = os.getenv('user')\n",
    "password = os.getenv('password')\n",
    "sslmode = \"require\"\n",
    "\n",
    "print(\"[\" + datetime.today().strftime('%Y-%m-%d %H:%M:%S') + \"] - \" + \"Proccess has been initialized\")\n",
    "\n",
    "conn_string = \"host={0} user={1} dbname={2} password={3} sslmode={4}\".format(host, user, dbname, password, sslmode)\n",
    "conn = psycopg2.connect(conn_string)\n",
    "\n",
    "print(\"[\" + datetime.today().strftime('%Y-%m-%d %H:%M:%S') + \"] - \" + \"Connection established\")\n",
    "\n",
    "cursor = conn.cursor()\n",
    "\n",
    "users = [\n",
    "    {\n",
    "        \"user_id\": \"bc6b94dd-7008-4717-93d2-707aa42bbbb5\",\n",
    "        \"name\": \"Cleitinho\",\n",
    "        \"tags\": [\"supermercado\", \"eletrônico\"]\n",
    "    },\n",
    "    {\n",
    "        \"user_id\": \"75ecd8d2-4f44-4f24-b6f1-a4c0fcc82ecf\",\n",
    "        \"name\": \"Japonês\",\n",
    "        \"tags\": [\"roupas\", \"jogos\", \"games\"]\n",
    "    },\n",
    "]\n",
    "\n",
    "user =  choice(users)\n",
    "\n",
    "print(\"[\" + datetime.today().strftime('%Y-%m-%d %H:%M:%S') + \"] - \" + \"User that has been chosen: \" + user[\"name\"])\n",
    "\n",
    "# To create past records you can use a range with timestamps as follows: randrange(1696203611, 1697888293) \n",
    "\n",
    "statement = {\n",
    "    \"transaction_id\": str(uuid.uuid4()),\n",
    "    \"amount\": randrange(700, 6800),\n",
    "    \"time\": calendar.timegm(time.gmtime()),\n",
    "    \"tag\": choice(user['tags']),\n",
    "    \"user_id\": user['user_id'],\n",
    "}\n",
    "\n",
    "try:\n",
    "    # Store this statement into pg DB\n",
    "    cursor.execute(\"INSERT INTO bank_api (transaction_id, amount, time, tag, user_id) \\\n",
    "                    VALUES ('{0}', {1}, {2}, '{3}', '{4}');\".format(\n",
    "                        statement[\"transaction_id\"],\n",
    "                        statement[\"amount\"],\n",
    "                        statement[\"time\"],\n",
    "                        statement[\"tag\"],\n",
    "                        statement[\"user_id\"]\n",
    "                    )\n",
    "    )\n",
    "    print(\"[\" + datetime.today().strftime('%Y-%m-%d %H:%M:%S') + \"] - \" + \"RUN: Finished insert into table\")\n",
    "except:\n",
    "\tprint(\"[\" + datetime.today().strftime('%Y-%m-%d %H:%M:%S') + \"] - \" + \"RUN: An error occurred while inserting into database\")\n",
    "\n",
    "conn.commit()\n",
    "cursor.close()\n",
    "conn.close()"
   ]
  },
  {
   "cell_type": "code",
   "execution_count": null,
   "metadata": {},
   "outputs": [],
   "source": []
  }
 ],
 "metadata": {
  "kernelspec": {
   "display_name": "Python 3",
   "language": "python",
   "name": "python3"
  },
  "language_info": {
   "codemirror_mode": {
    "name": "ipython",
    "version": 3
   },
   "file_extension": ".py",
   "mimetype": "text/x-python",
   "name": "python",
   "nbconvert_exporter": "python",
   "pygments_lexer": "ipython3",
   "version": "3.8.9"
  },
  "orig_nbformat": 4,
  "vscode": {
   "interpreter": {
    "hash": "31f2aee4e71d21fbe5cf8b01ff0e069b9275f58929596ceb00d14d90e3e16cd6"
   }
  }
 },
 "nbformat": 4,
 "nbformat_minor": 2
}
